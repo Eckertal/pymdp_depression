{
 "cells": [
  {
   "cell_type": "markdown",
   "id": "32cdc835",
   "metadata": {},
   "source": [
    "# Explore new dataset from Gießen\n",
    "\n",
    "Preprocessing. \n",
    "\n",
    "get some descriptive stats on the sample we have here. "
   ]
  },
  {
   "cell_type": "code",
   "execution_count": 1,
   "id": "6f08d4c8",
   "metadata": {},
   "outputs": [],
   "source": [
    "import pandas as pd\n",
    "import numpy as np\n",
    "import matplotlib.pyplot as plt\n",
    "import os, sys, pdb\n",
    "\n",
    "pd.set_option('display.max_columns', None)\n",
    "\n",
    "cur_dir = os.getcwd()\n",
    "path_to_data = os.path.join(cur_dir, \"data_trustgame_depression\")\n",
    "os.chdir(path_to_data)"
   ]
  },
  {
   "cell_type": "code",
   "execution_count": 2,
   "id": "a5e0e7c7",
   "metadata": {},
   "outputs": [],
   "source": [
    "# negative to positive data\n",
    "df_np = pd.read_csv('trustgame_neg_to_pos.csv')\n",
    "df_pn = pd.read_csv('trustgame_pos_to_neg.csv')\n",
    "df_a  = pd.read_csv('trustgame_ambiguous.csv')"
   ]
  },
  {
   "cell_type": "code",
   "execution_count": 3,
   "id": "44dcaa20",
   "metadata": {},
   "outputs": [],
   "source": [
    "# start cleaning this data. Start with df_np bc we use this for DPK a bit. \n",
    "# drop unneeded cols\n",
    "unwanted_cols = ['Event Index', 'Participant Status','Task Version', 'UTC Timestamp', 'UTC Date and Time', 'Local Timestamp',\n",
    "       'Local Timezone', 'Local Date and Time', 'Experiment ID','Participant Public ID',\n",
    "       'Experiment Version', 'Tree Node Key','Spreadsheet Name','Task Name', 'Repeat Key', 'Image','Schedule ID','practice trial keep', 'practice trial share',\n",
    "       'Participant External Session ID', 'Participant Completion Code', 'Reaction Onset','Response Type',\n",
    "       'Participant Device Type', 'Participant Device', 'Participant OS','Dishonest',\n",
    "       'Participant Browser', 'Participant Monitor Size', 'Participant Starting Group',\n",
    "       'Participant Viewport Size', 'Checkpoint', 'Room ID', 'Room Order','Zone Name',\n",
    "       'Attempt','Correct','Incorrect','Correct answer','KeepAmount','Timelag_decision','Timelag_next participant',\n",
    "       'checkpoint-jpdv', 'randomiser-i3f2', 'X Coordinate', 'Y Coordinate','randomise_blocks','randomise_trials',\n",
    "       'checkpoint-neje', 'order-73e3', 'checkpoint-iq13', 'checkpoint-t4s8','Timed Out', 'ANSWER']\n",
    "\n",
    "df_np = df_np.drop(unwanted_cols, axis=1)\n",
    "df_pn = df_pn.drop(unwanted_cols, axis=1)\n",
    "df_a  = df_a.drop(unwanted_cols, axis=1)"
   ]
  },
  {
   "cell_type": "code",
   "execution_count": 4,
   "id": "252a62aa",
   "metadata": {},
   "outputs": [
    {
     "name": "stdout",
     "output_type": "stream",
     "text": [
      "(1542, 14) (2229, 14) (1797, 14)\n",
      "(420, 14) (600, 14) (480, 14)\n"
     ]
    }
   ],
   "source": [
    "# now we start filtering. \n",
    "df_np = df_np[df_np['display']=='Trials']\n",
    "df_pn = df_pn[df_pn['display']=='Trials']\n",
    "df_a  = df_a[df_a['display']=='Trials']\n",
    "print(df_np.shape, df_pn.shape, df_a.shape)\n",
    "df_np = df_np[df_np['Zone Type']=='response_button_text']\n",
    "df_pn = df_pn[df_pn['Zone Type'] == 'response_button_text']\n",
    "df_a  = df_a[df_a['Zone Type'] == 'response_button_text']\n",
    "print(df_np.shape, df_pn.shape, df_a.shape)"
   ]
  },
  {
   "cell_type": "code",
   "execution_count": 5,
   "id": "96c39a11",
   "metadata": {},
   "outputs": [
    {
     "name": "stdout",
     "output_type": "stream",
     "text": [
      "N pos-neg: 10\n",
      "N neg-pos: 7\n",
      "ambiguous: 8\n"
     ]
    }
   ],
   "source": [
    "vp_pn = list(df_pn['Participant Private ID'].unique())\n",
    "vp_np = list(df_np['Participant Private ID'].unique())\n",
    "vp_a  = list(df_a['Participant Private ID'].unique())\n",
    "print(f'N pos-neg: {len(vp_pn)}')\n",
    "print(f'N neg-pos: {len(vp_np)}')\n",
    "print(f'ambiguous: {len(vp_a)}')"
   ]
  },
  {
   "cell_type": "code",
   "execution_count": 6,
   "id": "e601af99",
   "metadata": {},
   "outputs": [],
   "source": [
    "# merge all of them\n",
    "df_list = [df_np, df_pn, df_a]\n",
    "df = pd.concat(df_list)"
   ]
  },
  {
   "cell_type": "code",
   "execution_count": 7,
   "id": "911b209b",
   "metadata": {},
   "outputs": [
    {
     "name": "stdout",
     "output_type": "stream",
     "text": [
      "All VP: 25\n"
     ]
    }
   ],
   "source": [
    "# now we replace values so we can work with it. \n",
    "df['Response'] = df['Response'].replace({'50ct spenden': 1, '50ct behalten': 0}) # now 1 = spenden, 0 = behalten\n",
    "df['partnerAnswer'] = df['partnerAnswer'].replace({'Entscheidung von Mitspieler(in): \"Nichts zurückgeben\"': 1, \n",
    "                                                  'Entscheidung von Mitspieler(in): \"1€ zurückgeben\"': 0}) # 0: abuse, 1: coop\n",
    "\n",
    "# reward and behavior of person need to be the same! abuse = 1, social = 0\n",
    "# partnerAnswer muss 0 social, 1 antiscoial, 2 unknown\n",
    "# reward 0 return, 1 loss, 2 keep same amount\n",
    "# response 0 für share, 1 für keep, 2 für start ganz am Anfang der Daten. \n",
    "\n",
    "# list of all subjects\n",
    "all_vp = list(df['Participant Private ID'].unique())\n",
    "print(f'All VP: {len(all_vp)}')"
   ]
  },
  {
   "cell_type": "code",
   "execution_count": 8,
   "id": "28a9b5d4",
   "metadata": {},
   "outputs": [],
   "source": [
    "# create a reward column.\n",
    "reward_conditions = [\n",
    "    (df['Response'] == 0) & (df['partnerAnswer']==0), \n",
    "    (df['Response'] == 0) & (df['partnerAnswer']==1), \n",
    "    (df['Response'] == 1)\n",
    "]\n",
    "\n",
    "# response 0, partner 0 = outcome 0 (return). \n",
    "# response 0, partner 1 = outcome 1 (loss). \n",
    "# response 1, partner irrelevant = outcome 2 (keep)\n",
    "\n",
    "choices = [0, 1, 2]\n",
    "df['reward'] = np.select(reward_conditions, choices, default=0)\n",
    "\n",
    "# constraint: if response == 1, reward & partnerAnswer need to be 2.\n",
    "# response: [share, keep, start]. partnerAnswer: [social, antisocial, unknown]. reward: [return, loss, keep]\n",
    "df.loc[df['Response'] == 1, ['reward', 'partnerAnswer']] = 2"
   ]
  },
  {
   "cell_type": "code",
   "execution_count": 9,
   "id": "c6a1d60d",
   "metadata": {},
   "outputs": [],
   "source": [
    "def test_dataframe_conditions(df):\n",
    "    # Test 1: response = 0 [share] & partnerAnswer = 0 [return], reward needs to be 0 (WIN)\n",
    "    assert all(df[(df['Response'] == 0) & (df['partnerAnswer'] == 0)]['reward'] == 0), \"Test 1 failed\"\n",
    "    \n",
    "    # Test 2: response = 0 [share] & partnerAnswer = 1 [defect], reward needs to be 1 (LOSS)\n",
    "    assert all(df[(df['Response'] == 0) & (df['partnerAnswer'] == 1)]['reward'] == 1), \"Test 2 failed\"\n",
    "    \n",
    "    # Test 3: response = 1 [keep], reward needs to be 2 [budget keep]\n",
    "    assert all(df[df['Response'] == 1]['reward'] == 2), \"Test 3 failed\"\n",
    "    \n",
    "test_dataframe_conditions(df)\n",
    "#df.to_csv('final_data.csv')"
   ]
  },
  {
   "cell_type": "markdown",
   "id": "d0c3565d",
   "metadata": {},
   "source": [
    "# BDI data preprocessing"
   ]
  },
  {
   "cell_type": "code",
   "execution_count": 10,
   "id": "7e7f9eef",
   "metadata": {},
   "outputs": [],
   "source": [
    "# preprocess the BDI survey data.\n",
    "df_bdi = pd.read_csv('data_bdi.csv')\n",
    "\n",
    "survey_unwanted_cols = ['Event Index', 'UTC Timestamp', 'UTC Date and Time', 'Local Timestamp',\n",
    "       'Local Timezone', 'Local Date and Time', 'Experiment ID',\n",
    "       'Experiment Version', 'Tree Node Key', 'Repeat Key', 'Schedule ID',\n",
    "       'Participant Public ID', 'Participant Starting Group', 'Participant Status',\n",
    "       'Participant Completion Code', 'Participant External Session ID',\n",
    "       'Participant Device Type', 'Participant Device', 'Participant OS',\n",
    "       'Participant Browser', 'Participant Monitor Size',\n",
    "       'Participant Viewport Size', 'Checkpoint', 'Room ID', 'Room Order','checkpoint-jpdv', 'randomiser-i3f2',\n",
    "       'checkpoint-neje', 'order-73e3', 'checkpoint-iq13', 'checkpoint-t4s8',\n",
    "       'Randomise questionnaire elements?']\n",
    "\n",
    "df_bdi = df_bdi.drop(survey_unwanted_cols, axis=1)"
   ]
  },
  {
   "cell_type": "code",
   "execution_count": 11,
   "id": "a2bccc2f",
   "metadata": {},
   "outputs": [],
   "source": [
    "# items\n",
    "bdi_items = ['BDI_' + f'0{i}' for i in range(1,10)] + ['BDI_' + f'{i}' for i in range(10, 22)]\n",
    "# responses\n",
    "bdi_resp = [i + '-quantised' for i in bdi_items]\n",
    "# all participants\n",
    "vp_bdi = list(df_bdi['Participant Private ID'].unique())\n",
    "\n",
    "# preprocess survey data to make it easier to use\n",
    "# Drop rows with NaN values in the \"Question Key\" column\n",
    "df_bdi = df_bdi.dropna(subset=[\"Question Key\"])\n",
    "\n",
    "# Filter out rows that are not relevant\n",
    "df_bdi = df_bdi[df_bdi[\"Question Key\"].str.startswith(\"BDI\")]\n",
    "df_items = df_bdi[~df_bdi[\"Question Key\"].str.contains(\"quantised\")]\n",
    "df_quantised = df_bdi[df_bdi[\"Question Key\"].str.contains(\"quantised\")]"
   ]
  },
  {
   "cell_type": "code",
   "execution_count": 12,
   "id": "de2eb3a4",
   "metadata": {},
   "outputs": [
    {
     "name": "stderr",
     "output_type": "stream",
     "text": [
      "C:\\Users\\annae\\AppData\\Local\\Temp\\ipykernel_7872\\4061585974.py:1: SettingWithCopyWarning: \n",
      "A value is trying to be set on a copy of a slice from a DataFrame.\n",
      "Try using .loc[row_indexer,col_indexer] = value instead\n",
      "\n",
      "See the caveats in the documentation: https://pandas.pydata.org/pandas-docs/stable/user_guide/indexing.html#returning-a-view-versus-a-copy\n",
      "  df_items[\"Question Number\"] = df_items[\"Question Key\"].str.replace(\"BDI_\", \"\").astype(int)\n",
      "C:\\Users\\annae\\AppData\\Local\\Temp\\ipykernel_7872\\4061585974.py:2: SettingWithCopyWarning: \n",
      "A value is trying to be set on a copy of a slice from a DataFrame.\n",
      "Try using .loc[row_indexer,col_indexer] = value instead\n",
      "\n",
      "See the caveats in the documentation: https://pandas.pydata.org/pandas-docs/stable/user_guide/indexing.html#returning-a-view-versus-a-copy\n",
      "  df_quantised[\"Question Number\"] = df_quantised[\"Question Key\"].str.replace(\"BDI_\", \"\").str.replace(\"-quantised\", \"\").astype(int)\n"
     ]
    }
   ],
   "source": [
    "df_items[\"Question Number\"] = df_items[\"Question Key\"].str.replace(\"BDI_\", \"\").astype(int)\n",
    "df_quantised[\"Question Number\"] = df_quantised[\"Question Key\"].str.replace(\"BDI_\", \"\").str.replace(\"-quantised\", \"\").astype(int)"
   ]
  },
  {
   "cell_type": "code",
   "execution_count": 13,
   "id": "bcbc61f2",
   "metadata": {},
   "outputs": [
    {
     "name": "stdout",
     "output_type": "stream",
     "text": [
      "BDI data for N =  26\n"
     ]
    },
    {
     "data": {
      "text/plain": [
       "nan"
      ]
     },
     "execution_count": 13,
     "metadata": {},
     "output_type": "execute_result"
    }
   ],
   "source": [
    "# restructure the whole dataframe\n",
    "df_merged = pd.merge(df_items, df_quantised, on=[\"Participant Private ID\", \"Task Name\", \"Task Version\", \"Question Number\"], suffixes=('_item', '_quantised'))\n",
    "final_df = df_merged[[\"Participant Private ID\", \"Task Name\", \"Task Version\", \"Question Key_item\", \"Response_item\", \"Response_quantised\"]]\n",
    "final_df.columns = [\"Participant Private ID\", \"Task Name\", \"Task Version\", \"Question Key\", \"Item\", \"Response\"]\n",
    "df_bdi = final_df\n",
    "\n",
    "print('BDI data for N = ',len(vp_bdi))\n",
    "vp_bdi.pop(-1) # remove nan value"
   ]
  },
  {
   "cell_type": "code",
   "execution_count": 14,
   "id": "03eb6377",
   "metadata": {},
   "outputs": [
    {
     "name": "stdout",
     "output_type": "stream",
     "text": [
      "median value BDI:  22.0\n"
     ]
    }
   ],
   "source": [
    "bdi_res = dict()\n",
    "for vp in vp_bdi: \n",
    "    df_sbj = df_bdi[df_bdi['Participant Private ID'] == vp]\n",
    "    vp_score = df_sbj['Response'].astype(int).sum() -21 # minus 21 bc I think it is scored 0-4\n",
    "    bdi_res[vp] = vp_score\n",
    "    \n",
    "bdi_median = np.median(list(bdi_res.values()))\n",
    "print('median value BDI: ', bdi_median)\n",
    "\n",
    "bdi = pd.DataFrame(list(bdi_res.items()), columns=['sbj_id', 'bdi_score'])\n",
    "bdi.to_csv('bdi_n17.csv')\n",
    "\n",
    "# add BDI value to the dataframe. \n",
    "df['BDI'] = df['Participant Private ID'].map(bdi_res)\n",
    "# run test to be sure... \n",
    "test_dataframe_conditions(df)\n",
    "# if not failed, put into csv file. \n",
    "df.to_csv('data_inclBDI_n25.csv')"
   ]
  },
  {
   "cell_type": "code",
   "execution_count": 19,
   "id": "3b415f6b",
   "metadata": {},
   "outputs": [],
   "source": [
    "# special purpose datafiles: only ambiguous..\n",
    "df_a = df[df['Spreadsheet Name']=='Ambigious']\n",
    "df_a.to_csv('data_ambiguous_only.csv')"
   ]
  },
  {
   "cell_type": "code",
   "execution_count": 15,
   "id": "25d1921b",
   "metadata": {},
   "outputs": [
    {
     "data": {
      "text/html": [
       "<div>\n",
       "<style scoped>\n",
       "    .dataframe tbody tr th:only-of-type {\n",
       "        vertical-align: middle;\n",
       "    }\n",
       "\n",
       "    .dataframe tbody tr th {\n",
       "        vertical-align: top;\n",
       "    }\n",
       "\n",
       "    .dataframe thead th {\n",
       "        text-align: right;\n",
       "    }\n",
       "</style>\n",
       "<table border=\"1\" class=\"dataframe\">\n",
       "  <thead>\n",
       "    <tr style=\"text-align: right;\">\n",
       "      <th></th>\n",
       "      <th>Participant Private ID</th>\n",
       "      <th>Spreadsheet</th>\n",
       "      <th>Spreadsheet Row</th>\n",
       "      <th>Trial Number</th>\n",
       "      <th>Screen Number</th>\n",
       "      <th>Screen Name</th>\n",
       "      <th>Zone Type</th>\n",
       "      <th>Reaction Time</th>\n",
       "      <th>Response</th>\n",
       "      <th>display</th>\n",
       "      <th>Button A</th>\n",
       "      <th>Button B</th>\n",
       "      <th>Zuweisung_Mitspieler(in)</th>\n",
       "      <th>partnerAnswer</th>\n",
       "      <th>reward</th>\n",
       "      <th>BDI</th>\n",
       "    </tr>\n",
       "  </thead>\n",
       "  <tbody>\n",
       "    <tr>\n",
       "      <th>14</th>\n",
       "      <td>9089012.0</td>\n",
       "      <td>Negative-to-positive</td>\n",
       "      <td>17.0</td>\n",
       "      <td>1</td>\n",
       "      <td>1.0</td>\n",
       "      <td>decision</td>\n",
       "      <td>response_button_text</td>\n",
       "      <td>4560.0</td>\n",
       "      <td>1</td>\n",
       "      <td>Trials</td>\n",
       "      <td>50ct behalten</td>\n",
       "      <td>50ct spenden</td>\n",
       "      <td>Sie spielen mit \"keEpcalm\"</td>\n",
       "      <td>2</td>\n",
       "      <td>2</td>\n",
       "      <td>10</td>\n",
       "    </tr>\n",
       "    <tr>\n",
       "      <th>22</th>\n",
       "      <td>9089012.0</td>\n",
       "      <td>Negative-to-positive</td>\n",
       "      <td>7.0</td>\n",
       "      <td>2</td>\n",
       "      <td>1.0</td>\n",
       "      <td>decision</td>\n",
       "      <td>response_button_text</td>\n",
       "      <td>2183.0</td>\n",
       "      <td>1</td>\n",
       "      <td>Trials</td>\n",
       "      <td>50ct behalten</td>\n",
       "      <td>50ct spenden</td>\n",
       "      <td>Sie spielen mit \"sdlfn\"</td>\n",
       "      <td>2</td>\n",
       "      <td>2</td>\n",
       "      <td>10</td>\n",
       "    </tr>\n",
       "    <tr>\n",
       "      <th>30</th>\n",
       "      <td>9089012.0</td>\n",
       "      <td>Negative-to-positive</td>\n",
       "      <td>12.0</td>\n",
       "      <td>3</td>\n",
       "      <td>1.0</td>\n",
       "      <td>decision</td>\n",
       "      <td>response_button_text</td>\n",
       "      <td>3546.0</td>\n",
       "      <td>1</td>\n",
       "      <td>Trials</td>\n",
       "      <td>50ct behalten</td>\n",
       "      <td>50ct spenden</td>\n",
       "      <td>Sie spielen mit \"schnuck\"</td>\n",
       "      <td>2</td>\n",
       "      <td>2</td>\n",
       "      <td>10</td>\n",
       "    </tr>\n",
       "    <tr>\n",
       "      <th>38</th>\n",
       "      <td>9089012.0</td>\n",
       "      <td>Negative-to-positive</td>\n",
       "      <td>25.0</td>\n",
       "      <td>4</td>\n",
       "      <td>1.0</td>\n",
       "      <td>decision</td>\n",
       "      <td>response_button_text</td>\n",
       "      <td>508.0</td>\n",
       "      <td>0</td>\n",
       "      <td>Trials</td>\n",
       "      <td>50ct behalten</td>\n",
       "      <td>50ct spenden</td>\n",
       "      <td>Sie spielen mit \"ines\"</td>\n",
       "      <td>1</td>\n",
       "      <td>1</td>\n",
       "      <td>10</td>\n",
       "    </tr>\n",
       "    <tr>\n",
       "      <th>44</th>\n",
       "      <td>9089012.0</td>\n",
       "      <td>Negative-to-positive</td>\n",
       "      <td>23.0</td>\n",
       "      <td>5</td>\n",
       "      <td>1.0</td>\n",
       "      <td>decision</td>\n",
       "      <td>response_button_text</td>\n",
       "      <td>507.0</td>\n",
       "      <td>0</td>\n",
       "      <td>Trials</td>\n",
       "      <td>50ct behalten</td>\n",
       "      <td>50ct spenden</td>\n",
       "      <td>Sie spielen mit \"8D\"</td>\n",
       "      <td>0</td>\n",
       "      <td>0</td>\n",
       "      <td>10</td>\n",
       "    </tr>\n",
       "  </tbody>\n",
       "</table>\n",
       "</div>"
      ],
      "text/plain": [
       "    Participant Private ID           Spreadsheet  Spreadsheet Row  \\\n",
       "14               9089012.0  Negative-to-positive             17.0   \n",
       "22               9089012.0  Negative-to-positive              7.0   \n",
       "30               9089012.0  Negative-to-positive             12.0   \n",
       "38               9089012.0  Negative-to-positive             25.0   \n",
       "44               9089012.0  Negative-to-positive             23.0   \n",
       "\n",
       "   Trial Number  Screen Number Screen Name             Zone Type  \\\n",
       "14            1            1.0    decision  response_button_text   \n",
       "22            2            1.0    decision  response_button_text   \n",
       "30            3            1.0    decision  response_button_text   \n",
       "38            4            1.0    decision  response_button_text   \n",
       "44            5            1.0    decision  response_button_text   \n",
       "\n",
       "    Reaction Time  Response display       Button A      Button B  \\\n",
       "14         4560.0         1  Trials  50ct behalten  50ct spenden   \n",
       "22         2183.0         1  Trials  50ct behalten  50ct spenden   \n",
       "30         3546.0         1  Trials  50ct behalten  50ct spenden   \n",
       "38          508.0         0  Trials  50ct behalten  50ct spenden   \n",
       "44          507.0         0  Trials  50ct behalten  50ct spenden   \n",
       "\n",
       "      Zuweisung_Mitspieler(in)  partnerAnswer  reward  BDI  \n",
       "14  Sie spielen mit \"keEpcalm\"              2       2   10  \n",
       "22     Sie spielen mit \"sdlfn\"              2       2   10  \n",
       "30   Sie spielen mit \"schnuck\"              2       2   10  \n",
       "38      Sie spielen mit \"ines\"              1       1   10  \n",
       "44        Sie spielen mit \"8D\"              0       0   10  "
      ]
     },
     "execution_count": 15,
     "metadata": {},
     "output_type": "execute_result"
    }
   ],
   "source": [
    "df.head()"
   ]
  },
  {
   "cell_type": "code",
   "execution_count": null,
   "id": "bdbdb85b",
   "metadata": {},
   "outputs": [],
   "source": []
  }
 ],
 "metadata": {
  "kernelspec": {
   "display_name": "Python 3 (ipykernel)",
   "language": "python",
   "name": "python3"
  },
  "language_info": {
   "codemirror_mode": {
    "name": "ipython",
    "version": 3
   },
   "file_extension": ".py",
   "mimetype": "text/x-python",
   "name": "python",
   "nbconvert_exporter": "python",
   "pygments_lexer": "ipython3",
   "version": "3.11.5"
  }
 },
 "nbformat": 4,
 "nbformat_minor": 5
}
