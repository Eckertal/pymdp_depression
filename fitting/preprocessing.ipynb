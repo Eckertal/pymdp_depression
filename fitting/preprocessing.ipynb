{
 "cells": [
  {
   "cell_type": "markdown",
   "id": "32cdc835",
   "metadata": {},
   "source": [
    "# Explore new dataset from Gießen\n",
    "\n",
    "Preprocessing. \n",
    "\n",
    "get some descriptive stats on the sample we have here. "
   ]
  },
  {
   "cell_type": "code",
   "execution_count": 1,
   "id": "6f08d4c8",
   "metadata": {},
   "outputs": [],
   "source": [
    "import pandas as pd\n",
    "import numpy as np\n",
    "import matplotlib.pyplot as plt\n",
    "import os, sys, pdb\n",
    "\n",
    "pd.set_option('display.max_columns', None)\n",
    "\n",
    "cur_dir = os.getcwd()\n",
    "path_to_data = os.path.join(cur_dir, \"data_trustgame_depression\")\n",
    "os.chdir(path_to_data)"
   ]
  },
  {
   "cell_type": "code",
   "execution_count": 2,
   "id": "a5e0e7c7",
   "metadata": {},
   "outputs": [],
   "source": [
    "# negative to positive data\n",
    "df_np = pd.read_csv('trustgame_neg_to_pos.csv')\n",
    "df_pn = pd.read_csv('trustgame_pos_to_neg.csv')\n",
    "df_a  = pd.read_csv('trustgame_ambiguous.csv')"
   ]
  },
  {
   "cell_type": "code",
   "execution_count": 3,
   "id": "44dcaa20",
   "metadata": {},
   "outputs": [],
   "source": [
    "# start cleaning this data. Start with df_np bc we use this for DPK a bit. \n",
    "# drop unneeded cols\n",
    "unwanted_cols = ['Event Index', 'UTC Timestamp', 'UTC Date and Time', 'Local Timestamp',\n",
    "       'Local Timezone', 'Local Date and Time', 'Experiment ID','Participant Public ID',\n",
    "       'Experiment Version', 'Tree Node Key', 'Repeat Key', 'Schedule ID','practice trial keep', 'practice trial share',\n",
    "       'Participant External Session ID', 'Participant Completion Code', 'Reaction Onset','Response Type',\n",
    "       'Participant Device Type', 'Participant Device', 'Participant OS','Dishonest',\n",
    "       'Participant Browser', 'Participant Monitor Size', 'Participant Starting Group',\n",
    "       'Participant Viewport Size', 'Checkpoint', 'Room ID', 'Room Order','Zone Name',\n",
    "       'checkpoint-jpdv', 'randomiser-i3f2', 'X Coordinate', 'Y Coordinate','randomise_blocks','randomise_trials',\n",
    "       'checkpoint-neje', 'order-73e3', 'checkpoint-iq13', 'checkpoint-t4s8','Timed Out', 'ANSWER']\n",
    "\n",
    "df_np = df_np.drop(unwanted_cols, axis=1)\n",
    "df_pn = df_pn.drop(unwanted_cols, axis=1)\n",
    "df_a  = df_a.drop(unwanted_cols, axis=1)"
   ]
  },
  {
   "cell_type": "code",
   "execution_count": 4,
   "id": "252a62aa",
   "metadata": {},
   "outputs": [
    {
     "name": "stdout",
     "output_type": "stream",
     "text": [
      "(1542, 26) (2229, 26) (1797, 26)\n",
      "(420, 26) (600, 26) (480, 26)\n"
     ]
    }
   ],
   "source": [
    "# now we start filtering. \n",
    "df_np = df_np[df_np['display']=='Trials']\n",
    "df_pn = df_pn[df_pn['display']=='Trials']\n",
    "df_a  = df_a[df_a['display']=='Trials']\n",
    "print(df_np.shape, df_pn.shape, df_a.shape)\n",
    "df_np = df_np[df_np['Zone Type']=='response_button_text']\n",
    "df_pn = df_pn[df_pn['Zone Type'] == 'response_button_text']\n",
    "df_a  = df_a[df_a['Zone Type'] == 'response_button_text']\n",
    "print(df_np.shape, df_pn.shape, df_a.shape)"
   ]
  },
  {
   "cell_type": "code",
   "execution_count": 5,
   "id": "96c39a11",
   "metadata": {},
   "outputs": [
    {
     "name": "stdout",
     "output_type": "stream",
     "text": [
      "N pos-neg: 10\n",
      "N neg-pos: 7\n",
      "ambiguous: 8\n"
     ]
    }
   ],
   "source": [
    "vp_pn = list(df_pn['Participant Private ID'].unique())\n",
    "vp_np = list(df_np['Participant Private ID'].unique())\n",
    "vp_a  = list(df_a['Participant Private ID'].unique())\n",
    "print(f'N pos-neg: {len(vp_pn)}')\n",
    "print(f'N neg-pos: {len(vp_np)}')\n",
    "print(f'ambiguous: {len(vp_a)}')"
   ]
  },
  {
   "cell_type": "code",
   "execution_count": 6,
   "id": "e601af99",
   "metadata": {},
   "outputs": [],
   "source": [
    "# merge all of them\n",
    "df_list = [df_np, df_pn, df_a]\n",
    "df = pd.concat(df_list)"
   ]
  },
  {
   "cell_type": "code",
   "execution_count": 7,
   "id": "911b209b",
   "metadata": {},
   "outputs": [
    {
     "name": "stdout",
     "output_type": "stream",
     "text": [
      "All VP: 25\n"
     ]
    }
   ],
   "source": [
    "# now we replace values so we can work with it. \n",
    "df['Response'] = df['Response'].replace({'50ct spenden': 1, '50ct behalten': 0}) # now 1 = spenden, 0 = behalten\n",
    "df['partnerAnswer'] = df['partnerAnswer'].replace({'Entscheidung von Mitspieler(in): \"Nichts zurückgeben\"': 0, \n",
    "                                                  'Entscheidung von Mitspieler(in): \"1€ zurückgeben\"': 1}) # 0: abuse, 1: coop\n",
    "\n",
    "# list of all subjects\n",
    "all_vp = list(df['Participant Private ID'].unique())\n",
    "print(f'All VP: {len(all_vp)}')"
   ]
  },
  {
   "cell_type": "code",
   "execution_count": 8,
   "id": "33ed24f3",
   "metadata": {},
   "outputs": [],
   "source": [
    "# write into csv file for later usage\n",
    "df.to_csv('data_n25_inclAmbiguous.csv')"
   ]
  },
  {
   "cell_type": "code",
   "execution_count": 14,
   "id": "7e7f9eef",
   "metadata": {},
   "outputs": [],
   "source": [
    "# preprocess the BDI survey data.\n",
    "df_bdi = pd.read_csv('data_bdi.csv')\n",
    "\n",
    "survey_unwanted_cols = ['Event Index', 'UTC Timestamp', 'UTC Date and Time', 'Local Timestamp',\n",
    "       'Local Timezone', 'Local Date and Time', 'Experiment ID',\n",
    "       'Experiment Version', 'Tree Node Key', 'Repeat Key', 'Schedule ID',\n",
    "       'Participant Public ID', 'Participant Starting Group', 'Participant Status',\n",
    "       'Participant Completion Code', 'Participant External Session ID',\n",
    "       'Participant Device Type', 'Participant Device', 'Participant OS',\n",
    "       'Participant Browser', 'Participant Monitor Size',\n",
    "       'Participant Viewport Size', 'Checkpoint', 'Room ID', 'Room Order','checkpoint-jpdv', 'randomiser-i3f2',\n",
    "       'checkpoint-neje', 'order-73e3', 'checkpoint-iq13', 'checkpoint-t4s8',\n",
    "       'Randomise questionnaire elements?']\n",
    "\n",
    "df_bdi = df_bdi.drop(survey_unwanted_cols, axis=1)"
   ]
  },
  {
   "cell_type": "code",
   "execution_count": 15,
   "id": "a2bccc2f",
   "metadata": {},
   "outputs": [],
   "source": [
    "# items\n",
    "bdi_items = ['BDI_' + f'0{i}' for i in range(1,10)] + ['BDI_' + f'{i}' for i in range(10, 22)]\n",
    "# responses\n",
    "bdi_resp = [i + '-quantised' for i in bdi_items]\n",
    "# all participants\n",
    "vp_bdi = list(df_bdi['Participant Private ID'].unique())\n",
    "\n",
    "# preprocess survey data to make it easier to use\n",
    "# Drop rows with NaN values in the \"Question Key\" column\n",
    "df_bdi = df_bdi.dropna(subset=[\"Question Key\"])\n",
    "\n",
    "# Filter out rows that are not relevant\n",
    "df_bdi = df_bdi[df_bdi[\"Question Key\"].str.startswith(\"BDI\")]\n",
    "df_items = df_bdi[~df_bdi[\"Question Key\"].str.contains(\"quantised\")]\n",
    "df_quantised = df_bdi[df_bdi[\"Question Key\"].str.contains(\"quantised\")]"
   ]
  },
  {
   "cell_type": "code",
   "execution_count": 16,
   "id": "de2eb3a4",
   "metadata": {},
   "outputs": [
    {
     "name": "stderr",
     "output_type": "stream",
     "text": [
      "C:\\Users\\annae\\AppData\\Local\\Temp\\ipykernel_3696\\4061585974.py:1: SettingWithCopyWarning: \n",
      "A value is trying to be set on a copy of a slice from a DataFrame.\n",
      "Try using .loc[row_indexer,col_indexer] = value instead\n",
      "\n",
      "See the caveats in the documentation: https://pandas.pydata.org/pandas-docs/stable/user_guide/indexing.html#returning-a-view-versus-a-copy\n",
      "  df_items[\"Question Number\"] = df_items[\"Question Key\"].str.replace(\"BDI_\", \"\").astype(int)\n",
      "C:\\Users\\annae\\AppData\\Local\\Temp\\ipykernel_3696\\4061585974.py:2: SettingWithCopyWarning: \n",
      "A value is trying to be set on a copy of a slice from a DataFrame.\n",
      "Try using .loc[row_indexer,col_indexer] = value instead\n",
      "\n",
      "See the caveats in the documentation: https://pandas.pydata.org/pandas-docs/stable/user_guide/indexing.html#returning-a-view-versus-a-copy\n",
      "  df_quantised[\"Question Number\"] = df_quantised[\"Question Key\"].str.replace(\"BDI_\", \"\").str.replace(\"-quantised\", \"\").astype(int)\n"
     ]
    }
   ],
   "source": [
    "df_items[\"Question Number\"] = df_items[\"Question Key\"].str.replace(\"BDI_\", \"\").astype(int)\n",
    "df_quantised[\"Question Number\"] = df_quantised[\"Question Key\"].str.replace(\"BDI_\", \"\").str.replace(\"-quantised\", \"\").astype(int)"
   ]
  },
  {
   "cell_type": "code",
   "execution_count": 17,
   "id": "bcbc61f2",
   "metadata": {},
   "outputs": [
    {
     "data": {
      "text/html": [
       "<div>\n",
       "<style scoped>\n",
       "    .dataframe tbody tr th:only-of-type {\n",
       "        vertical-align: middle;\n",
       "    }\n",
       "\n",
       "    .dataframe tbody tr th {\n",
       "        vertical-align: top;\n",
       "    }\n",
       "\n",
       "    .dataframe thead th {\n",
       "        text-align: right;\n",
       "    }\n",
       "</style>\n",
       "<table border=\"1\" class=\"dataframe\">\n",
       "  <thead>\n",
       "    <tr style=\"text-align: right;\">\n",
       "      <th></th>\n",
       "      <th>Participant Private ID</th>\n",
       "      <th>Task Name</th>\n",
       "      <th>Task Version</th>\n",
       "      <th>Question Key</th>\n",
       "      <th>Item</th>\n",
       "      <th>Response</th>\n",
       "    </tr>\n",
       "  </thead>\n",
       "  <tbody>\n",
       "    <tr>\n",
       "      <th>0</th>\n",
       "      <td>9253510.0</td>\n",
       "      <td>BDI-II</td>\n",
       "      <td>6.0</td>\n",
       "      <td>BDI_01</td>\n",
       "      <td>1 Ich bin oft traurig</td>\n",
       "      <td>2</td>\n",
       "    </tr>\n",
       "    <tr>\n",
       "      <th>1</th>\n",
       "      <td>9253510.0</td>\n",
       "      <td>BDI-II</td>\n",
       "      <td>6.0</td>\n",
       "      <td>BDI_02</td>\n",
       "      <td>2 Ich bin mutlos und erwarte nicht dass meine ...</td>\n",
       "      <td>3</td>\n",
       "    </tr>\n",
       "    <tr>\n",
       "      <th>2</th>\n",
       "      <td>9253510.0</td>\n",
       "      <td>BDI-II</td>\n",
       "      <td>6.0</td>\n",
       "      <td>BDI_03</td>\n",
       "      <td>1 Ich habe häufiger Versagensgefühle</td>\n",
       "      <td>2</td>\n",
       "    </tr>\n",
       "    <tr>\n",
       "      <th>3</th>\n",
       "      <td>9253510.0</td>\n",
       "      <td>BDI-II</td>\n",
       "      <td>6.0</td>\n",
       "      <td>BDI_04</td>\n",
       "      <td>1 Ich kann die Dinge nicht mehr so genießen wi...</td>\n",
       "      <td>2</td>\n",
       "    </tr>\n",
       "    <tr>\n",
       "      <th>4</th>\n",
       "      <td>9253510.0</td>\n",
       "      <td>BDI-II</td>\n",
       "      <td>6.0</td>\n",
       "      <td>BDI_05</td>\n",
       "      <td>1 Ich habe oft Schuldgefühle wegen Dingen die ...</td>\n",
       "      <td>2</td>\n",
       "    </tr>\n",
       "    <tr>\n",
       "      <th>...</th>\n",
       "      <td>...</td>\n",
       "      <td>...</td>\n",
       "      <td>...</td>\n",
       "      <td>...</td>\n",
       "      <td>...</td>\n",
       "      <td>...</td>\n",
       "    </tr>\n",
       "    <tr>\n",
       "      <th>520</th>\n",
       "      <td>8329948.0</td>\n",
       "      <td>BDI-II</td>\n",
       "      <td>6.0</td>\n",
       "      <td>BDI_17</td>\n",
       "      <td>1 Ich bin reizbarer als sonst</td>\n",
       "      <td>2</td>\n",
       "    </tr>\n",
       "    <tr>\n",
       "      <th>521</th>\n",
       "      <td>8329948.0</td>\n",
       "      <td>BDI-II</td>\n",
       "      <td>6.0</td>\n",
       "      <td>BDI_18</td>\n",
       "      <td>0 Mein Appetit hat sich nicht verändert</td>\n",
       "      <td>1</td>\n",
       "    </tr>\n",
       "    <tr>\n",
       "      <th>522</th>\n",
       "      <td>8329948.0</td>\n",
       "      <td>BDI-II</td>\n",
       "      <td>6.0</td>\n",
       "      <td>BDI_19</td>\n",
       "      <td>1 Ich kann mich nicht mehr so gut konzentriere...</td>\n",
       "      <td>2</td>\n",
       "    </tr>\n",
       "    <tr>\n",
       "      <th>523</th>\n",
       "      <td>8329948.0</td>\n",
       "      <td>BDI-II</td>\n",
       "      <td>6.0</td>\n",
       "      <td>BDI_20</td>\n",
       "      <td>1 Ich werde schneller müder oder erschöpft als...</td>\n",
       "      <td>2</td>\n",
       "    </tr>\n",
       "    <tr>\n",
       "      <th>524</th>\n",
       "      <td>8329948.0</td>\n",
       "      <td>BDI-II</td>\n",
       "      <td>6.0</td>\n",
       "      <td>BDI_21</td>\n",
       "      <td>1 Ich interessiere mich weniger für Sexualität...</td>\n",
       "      <td>2</td>\n",
       "    </tr>\n",
       "  </tbody>\n",
       "</table>\n",
       "<p>525 rows × 6 columns</p>\n",
       "</div>"
      ],
      "text/plain": [
       "     Participant Private ID Task Name  Task Version Question Key  \\\n",
       "0                 9253510.0    BDI-II           6.0       BDI_01   \n",
       "1                 9253510.0    BDI-II           6.0       BDI_02   \n",
       "2                 9253510.0    BDI-II           6.0       BDI_03   \n",
       "3                 9253510.0    BDI-II           6.0       BDI_04   \n",
       "4                 9253510.0    BDI-II           6.0       BDI_05   \n",
       "..                      ...       ...           ...          ...   \n",
       "520               8329948.0    BDI-II           6.0       BDI_17   \n",
       "521               8329948.0    BDI-II           6.0       BDI_18   \n",
       "522               8329948.0    BDI-II           6.0       BDI_19   \n",
       "523               8329948.0    BDI-II           6.0       BDI_20   \n",
       "524               8329948.0    BDI-II           6.0       BDI_21   \n",
       "\n",
       "                                                  Item Response  \n",
       "0                                1 Ich bin oft traurig        2  \n",
       "1    2 Ich bin mutlos und erwarte nicht dass meine ...        3  \n",
       "2                 1 Ich habe häufiger Versagensgefühle        2  \n",
       "3    1 Ich kann die Dinge nicht mehr so genießen wi...        2  \n",
       "4    1 Ich habe oft Schuldgefühle wegen Dingen die ...        2  \n",
       "..                                                 ...      ...  \n",
       "520                      1 Ich bin reizbarer als sonst        2  \n",
       "521            0 Mein Appetit hat sich nicht verändert        1  \n",
       "522  1 Ich kann mich nicht mehr so gut konzentriere...        2  \n",
       "523  1 Ich werde schneller müder oder erschöpft als...        2  \n",
       "524  1 Ich interessiere mich weniger für Sexualität...        2  \n",
       "\n",
       "[525 rows x 6 columns]"
      ]
     },
     "execution_count": 17,
     "metadata": {},
     "output_type": "execute_result"
    }
   ],
   "source": [
    "# restructure the whole dataframe\n",
    "df_merged = pd.merge(df_items, df_quantised, on=[\"Participant Private ID\", \"Task Name\", \"Task Version\", \"Question Number\"], suffixes=('_item', '_quantised'))\n",
    "final_df = df_merged[[\"Participant Private ID\", \"Task Name\", \"Task Version\", \"Question Key_item\", \"Response_item\", \"Response_quantised\"]]\n",
    "final_df.columns = [\"Participant Private ID\", \"Task Name\", \"Task Version\", \"Question Key\", \"Item\", \"Response\"]\n",
    "df_bdi = final_df\n",
    "df_bdi"
   ]
  },
  {
   "cell_type": "code",
   "execution_count": 18,
   "id": "c3840973",
   "metadata": {},
   "outputs": [
    {
     "name": "stdout",
     "output_type": "stream",
     "text": [
      "BDI data for N =  26\n"
     ]
    },
    {
     "data": {
      "text/plain": [
       "nan"
      ]
     },
     "execution_count": 18,
     "metadata": {},
     "output_type": "execute_result"
    }
   ],
   "source": [
    "print('BDI data for N = ',len(vp_bdi))\n",
    "vp_bdi.pop(-1) # remove nan value"
   ]
  },
  {
   "cell_type": "code",
   "execution_count": 19,
   "id": "03eb6377",
   "metadata": {},
   "outputs": [
    {
     "name": "stdout",
     "output_type": "stream",
     "text": [
      "median value BDI:  22.0\n"
     ]
    }
   ],
   "source": [
    "bdi_res = dict()\n",
    "for vp in vp_bdi: \n",
    "    df_sbj = df_bdi[df_bdi['Participant Private ID'] == vp]\n",
    "    vp_score = df_sbj['Response'].astype(int).sum() -21 # minus 21 bc I think it is scored 0-4\n",
    "    bdi_res[vp] = vp_score\n",
    "    \n",
    "bdi_median = np.median(list(bdi_res.values()))\n",
    "print('median value BDI: ', bdi_median)"
   ]
  },
  {
   "cell_type": "code",
   "execution_count": 20,
   "id": "7ffd553d",
   "metadata": {},
   "outputs": [
    {
     "data": {
      "text/plain": [
       "{9253510.0: 27,\n",
       " 9164610.0: 30,\n",
       " 9130100.0: 11,\n",
       " 9118973.0: 7,\n",
       " 9114231.0: 17,\n",
       " 9113722.0: 40,\n",
       " 9089012.0: 10,\n",
       " 9066992.0: 44,\n",
       " 9054278.0: 17,\n",
       " 9053831.0: 35,\n",
       " 8964265.0: 32,\n",
       " 8879711.0: 22,\n",
       " 8843379.0: 20,\n",
       " 8842342.0: 9,\n",
       " 8816980.0: 15,\n",
       " 8801433.0: 20,\n",
       " 8796180.0: 35,\n",
       " 8742634.0: 50,\n",
       " 8714599.0: 18,\n",
       " 8616319.0: 19,\n",
       " 8552546.0: 35,\n",
       " 8502516.0: 30,\n",
       " 8478866.0: 22,\n",
       " 8459387.0: 27,\n",
       " 8329948.0: 15}"
      ]
     },
     "execution_count": 20,
     "metadata": {},
     "output_type": "execute_result"
    }
   ],
   "source": [
    "bdi_res"
   ]
  },
  {
   "cell_type": "code",
   "execution_count": 21,
   "id": "50a79acb",
   "metadata": {},
   "outputs": [],
   "source": [
    "bdi = pd.DataFrame(list(bdi_res.items()), columns=['sbj_id', 'bdi_score'])\n",
    "bdi.to_csv('bdi_n17.csv')"
   ]
  },
  {
   "cell_type": "code",
   "execution_count": 22,
   "id": "b9972d61",
   "metadata": {},
   "outputs": [],
   "source": [
    "# add BDI value to the dataframe. \n",
    "df['BDI'] = df['Participant Private ID'].map(bdi_res)\n",
    "df.to_csv('data_inclBDI_n25.csv')"
   ]
  },
  {
   "cell_type": "code",
   "execution_count": 23,
   "id": "3b415f6b",
   "metadata": {},
   "outputs": [],
   "source": [
    "df_a = df[df['Spreadsheet Name']=='Ambigious']\n",
    "df_a.to_csv('data_ambiguous_only.csv')"
   ]
  },
  {
   "cell_type": "code",
   "execution_count": null,
   "id": "344ce040",
   "metadata": {},
   "outputs": [],
   "source": []
  }
 ],
 "metadata": {
  "kernelspec": {
   "display_name": "Python 3 (ipykernel)",
   "language": "python",
   "name": "python3"
  },
  "language_info": {
   "codemirror_mode": {
    "name": "ipython",
    "version": 3
   },
   "file_extension": ".py",
   "mimetype": "text/x-python",
   "name": "python",
   "nbconvert_exporter": "python",
   "pygments_lexer": "ipython3",
   "version": "3.11.5"
  }
 },
 "nbformat": 4,
 "nbformat_minor": 5
}
